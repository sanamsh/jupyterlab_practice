{
 "cells": [
  {
   "cell_type": "markdown",
   "id": "9f12a88b-d20f-4e94-9bb6-947ec96c34c1",
   "metadata": {},
   "source": [
    "# Sanam Shirazi\n",
    "Notebook for assignment 7"
   ]
  },
  {
   "cell_type": "code",
   "execution_count": 1,
   "id": "be0cce11-46ca-4b89-bb9c-c0c8248ddb30",
   "metadata": {},
   "outputs": [
    {
     "data": {
      "text/plain": [
       "5.0"
      ]
     },
     "execution_count": 1,
     "metadata": {},
     "output_type": "execute_result"
    }
   ],
   "source": [
    "def compute_mean(num_list):\n",
    "    return sum(num_list) / len(num_list)\n",
    "compute_mean([2, 4, 6, 8]) "
   ]
  },
  {
   "cell_type": "markdown",
   "id": "df426092-1ca7-4b51-b9df-7b74ca5b7b7a",
   "metadata": {},
   "source": [
    "The `compute_mean` function defined above takes a list as an input and returns the mean value of all elements in the list. \n",
    "The equation below demonstrates how mean values is calculated:\n",
    "$$\n",
    "\\bar{x} = \\frac{x_1+x_2+...+x_n}{n} = \\frac{1}{n}\\bigg(\\sum_{i=1}^n x_i \\bigg)\n",
    "$$"
   ]
  },
  {
   "cell_type": "code",
   "execution_count": null,
   "id": "b28b40ae-d85f-4246-9ef2-e0b9891ac959",
   "metadata": {},
   "outputs": [],
   "source": []
  }
 ],
 "metadata": {
  "kernelspec": {
   "display_name": "Python 3 (ipykernel)",
   "language": "python",
   "name": "python3"
  },
  "language_info": {
   "codemirror_mode": {
    "name": "ipython",
    "version": 3
   },
   "file_extension": ".py",
   "mimetype": "text/x-python",
   "name": "python",
   "nbconvert_exporter": "python",
   "pygments_lexer": "ipython3",
   "version": "3.10.9"
  }
 },
 "nbformat": 4,
 "nbformat_minor": 5
}
